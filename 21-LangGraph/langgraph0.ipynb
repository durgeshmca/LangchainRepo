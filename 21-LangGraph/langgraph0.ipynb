{
 "cells": [
  {
   "cell_type": "code",
   "execution_count": 137,
   "metadata": {},
   "outputs": [],
   "source": [
    "import os\n",
    "from dotenv import load_dotenv\n"
   ]
  },
  {
   "cell_type": "code",
   "execution_count": 138,
   "metadata": {},
   "outputs": [],
   "source": [
    "load_dotenv()\n",
    "GROQ_API_KEY = os.getenv('GROQ_API_KEY')\n",
    "os.environ['LANGCHAIN_PROJECT'] = \"LangGraph\""
   ]
  },
  {
   "cell_type": "code",
   "execution_count": 139,
   "metadata": {},
   "outputs": [],
   "source": [
    "from langchain_groq import ChatGroq"
   ]
  },
  {
   "cell_type": "code",
   "execution_count": 140,
   "metadata": {},
   "outputs": [
    {
     "data": {
      "text/plain": [
       "ChatGroq(client=<groq.resources.chat.completions.Completions object at 0x7f720c1d4d90>, async_client=<groq.resources.chat.completions.AsyncCompletions object at 0x7f720c1706d0>, model_name='Gemma2-9b-it', model_kwargs={}, groq_api_key=SecretStr('**********'))"
      ]
     },
     "execution_count": 140,
     "metadata": {},
     "output_type": "execute_result"
    }
   ],
   "source": [
    "llm = ChatGroq(model_name=\"Gemma2-9b-it\")\n",
    "llm"
   ]
  },
  {
   "cell_type": "markdown",
   "metadata": {},
   "source": [
    "# Building chatbot using langgraph"
   ]
  },
  {
   "cell_type": "code",
   "execution_count": 141,
   "metadata": {},
   "outputs": [],
   "source": [
    "from typing import Annotated\n",
    "from typing_extensions import TypedDict\n",
    "from langgraph.graph import StateGraph,START,END\n",
    "from langgraph.graph.message import add_messages"
   ]
  },
  {
   "cell_type": "code",
   "execution_count": 142,
   "metadata": {},
   "outputs": [
    {
     "data": {
      "text/plain": [
       "<langgraph.graph.state.StateGraph at 0x7f720c441390>"
      ]
     },
     "execution_count": 142,
     "metadata": {},
     "output_type": "execute_result"
    }
   ],
   "source": [
    "class State(TypedDict):\n",
    "    messages:Annotated[list,add_messages]\n",
    "\n",
    "graph_builder = StateGraph(State)\n",
    "graph_builder"
   ]
  },
  {
   "cell_type": "code",
   "execution_count": 143,
   "metadata": {},
   "outputs": [],
   "source": [
    "def chatbot(state:State):\n",
    "    return {\"messages\":llm.invoke(state['messages'])}\n"
   ]
  },
  {
   "cell_type": "code",
   "execution_count": 144,
   "metadata": {},
   "outputs": [
    {
     "data": {
      "text/plain": [
       "<langgraph.graph.state.StateGraph at 0x7f720c441390>"
      ]
     },
     "execution_count": 144,
     "metadata": {},
     "output_type": "execute_result"
    }
   ],
   "source": [
    "graph_builder.add_node('chatbot',chatbot)"
   ]
  },
  {
   "cell_type": "code",
   "execution_count": 145,
   "metadata": {},
   "outputs": [
    {
     "data": {
      "text/plain": [
       "<langgraph.graph.state.StateGraph at 0x7f720c441390>"
      ]
     },
     "execution_count": 145,
     "metadata": {},
     "output_type": "execute_result"
    }
   ],
   "source": [
    "graph_builder.add_edge(START,\"chatbot\")\n",
    "graph_builder.add_edge(\"chatbot\",END)"
   ]
  },
  {
   "cell_type": "code",
   "execution_count": 146,
   "metadata": {},
   "outputs": [],
   "source": [
    "graph = graph_builder.compile()"
   ]
  },
  {
   "cell_type": "code",
   "execution_count": 147,
   "metadata": {},
   "outputs": [
    {
     "data": {
      "image/png": "[encoded data removed]",
      "text/plain": [
       "<IPython.core.display.Image object>"
      ]
     },
     "metadata": {},
     "output_type": "display_data"
    }
   ],
   "source": [
    "from IPython.display import Image, display\n",
    "try:\n",
    "  display(Image(graph.get_graph().draw_mermaid_png()))\n",
    "except Exception as e:\n",
    "  print(e)"
   ]
  },
  {
   "cell_type": "code",
   "execution_count": 148,
   "metadata": {},
   "outputs": [
    {
     "name": "stdout",
     "output_type": "stream",
     "text": [
      "content='Hi! 👋 \\n\\nHow can I help you today? 😊\\n' additional_kwargs={} response_metadata={'token_usage': {'completion_tokens': 16, 'prompt_tokens': 10, 'total_tokens': 26, 'completion_time': 0.029090909, 'prompt_time': 7e-07, 'queue_time': 0.013830749, 'total_time': 0.029091609}, 'model_name': 'Gemma2-9b-it', 'system_fingerprint': 'fp_10c08bf97d', 'finish_reason': 'stop', 'logprobs': None} id='run-0c7b5e66-69b4-4af8-8dc6-7215ba253d67-0' usage_metadata={'input_tokens': 10, 'output_tokens': 16, 'total_tokens': 26}\n",
      "Assistant: Hi! 👋 \n",
      "\n",
      "How can I help you today? 😊\n",
      "\n",
      "content='As a large language model, I have no memory of past conversations and do not know you personally. Every interaction we have is a fresh start.\\n\\nHow can I help you today?\\n' additional_kwargs={} response_metadata={'token_usage': {'completion_tokens': 40, 'prompt_tokens': 14, 'total_tokens': 54, 'completion_time': 0.072727273, 'prompt_time': 0.000102299, 'queue_time': 0.014712081, 'total_time': 0.072829572}, 'model_name': 'Gemma2-9b-it', 'system_fingerprint': 'fp_10c08bf97d', 'finish_reason': 'stop', 'logprobs': None} id='run-e28f8c36-d40c-4e10-b077-aaf05188e3d7-0' usage_metadata={'input_tokens': 14, 'output_tokens': 40, 'total_tokens': 54}\n",
      "Assistant: As a large language model, I have no memory of past conversations and do not know you personally. Every interaction we have is a fresh start.\n",
      "\n",
      "How can I help you today?\n",
      "\n",
      "content=\"Got it! From now on, I'll remember you as Durgesh. \\n\\nIs there anything I can help you with, Durgesh?\\n\" additional_kwargs={} response_metadata={'token_usage': {'completion_tokens': 35, 'prompt_tokens': 15, 'total_tokens': 50, 'completion_time': 0.063636364, 'prompt_time': 9.589e-05, 'queue_time': 0.01895481, 'total_time': 0.063732254}, 'model_name': 'Gemma2-9b-it', 'system_fingerprint': 'fp_10c08bf97d', 'finish_reason': 'stop', 'logprobs': None} id='run-4d877805-5362-4692-8a4b-acf0f8b06a13-0' usage_metadata={'input_tokens': 15, 'output_tokens': 35, 'total_tokens': 50}\n",
      "Assistant: Got it! From now on, I'll remember you as Durgesh. \n",
      "\n",
      "Is there anything I can help you with, Durgesh?\n",
      "\n",
      "content='2 multiplied by 8 is 16. \\n' additional_kwargs={} response_metadata={'token_usage': {'completion_tokens': 14, 'prompt_tokens': 18, 'total_tokens': 32, 'completion_time': 0.025454545, 'prompt_time': 0.00011133, 'queue_time': 0.014713098, 'total_time': 0.025565875}, 'model_name': 'Gemma2-9b-it', 'system_fingerprint': 'fp_10c08bf97d', 'finish_reason': 'stop', 'logprobs': None} id='run-daf532a4-9843-4bf5-87c4-1a1e217da990-0' usage_metadata={'input_tokens': 18, 'output_tokens': 14, 'total_tokens': 32}\n",
      "Assistant: 2 multiplied by 8 is 16. \n",
      "\n",
      "content=\"As a large language model, I have no memory of past conversations. Every interaction we have is fresh and new. So, I don't know your name. If you'd like to tell me, I'd be happy to know!\\n\" additional_kwargs={} response_metadata={'token_usage': {'completion_tokens': 53, 'prompt_tokens': 15, 'total_tokens': 68, 'completion_time': 0.096363636, 'prompt_time': 0.000123269, 'queue_time': 0.014606441, 'total_time': 0.096486905}, 'model_name': 'Gemma2-9b-it', 'system_fingerprint': 'fp_10c08bf97d', 'finish_reason': 'stop', 'logprobs': None} id='run-a0165e5e-8270-41d8-8e47-fae09b495e41-0' usage_metadata={'input_tokens': 15, 'output_tokens': 53, 'total_tokens': 68}\n",
      "Assistant: As a large language model, I have no memory of past conversations. Every interaction we have is fresh and new. So, I don't know your name. If you'd like to tell me, I'd be happy to know!\n",
      "\n",
      "content=\"As an AI, I have no memory of past conversations and do not know your name. If you'd like to tell me, I'd be happy to use it!\\n\" additional_kwargs={} response_metadata={'token_usage': {'completion_tokens': 39, 'prompt_tokens': 13, 'total_tokens': 52, 'completion_time': 0.070909091, 'prompt_time': 8.7939e-05, 'queue_time': 0.013409408, 'total_time': 0.07099703}, 'model_name': 'Gemma2-9b-it', 'system_fingerprint': 'fp_10c08bf97d', 'finish_reason': 'stop', 'logprobs': None} id='run-dadbd513-4533-4d24-a8f3-ab2608102e6d-0' usage_metadata={'input_tokens': 13, 'output_tokens': 39, 'total_tokens': 52}\n",
      "Assistant: As an AI, I have no memory of past conversations and do not know your name. If you'd like to tell me, I'd be happy to use it!\n",
      "\n",
      "content=\"As a large language model, I have no memory of past conversations. If you'd like to ask me a question, I'm ready! 😊\\n\" additional_kwargs={} response_metadata={'token_usage': {'completion_tokens': 34, 'prompt_tokens': 14, 'total_tokens': 48, 'completion_time': 0.061818182, 'prompt_time': 0.000664877, 'queue_time': 0.43632951, 'total_time': 0.062483059}, 'model_name': 'Gemma2-9b-it', 'system_fingerprint': 'fp_10c08bf97d', 'finish_reason': 'stop', 'logprobs': None} id='run-8c7eaef8-ade9-4f22-bfcc-2cf67f8923e0-0' usage_metadata={'input_tokens': 14, 'output_tokens': 34, 'total_tokens': 48}\n",
      "Assistant: As a large language model, I have no memory of past conversations. If you'd like to ask me a question, I'm ready! 😊\n",
      "\n",
      "Good Bye\n"
     ]
    }
   ],
   "source": [
    "\n",
    "while True:\n",
    "  user_input=input(\"User: \")\n",
    "  if user_input.lower() in [\"quit\",\"q\"]:\n",
    "    print(\"Good Bye\")\n",
    "    break\n",
    "  for event in graph.stream({'messages':(\"user\",user_input)}):\n",
    "    # print(event)\n",
    "    for value in event.values():\n",
    "      if value :\n",
    "        print(value['messages'])\n",
    "        print(\"Assistant:\",value[\"messages\"].content)"
   ]
  }
 ],
 "metadata": {
  "kernelspec": {
   "display_name": "Python 3",
   "language": "python",
   "name": "python3"
  },
  "language_info": {
   "codemirror_mode": {
    "name": "ipython",
    "version": 3
   },
   "file_extension": ".py",
   "mimetype": "text/x-python",
   "name": "python",
   "nbconvert_exporter": "python",
   "pygments_lexer": "ipython3",
   "version": "3.10.13"
  }
 },
 "nbformat": 4,
 "nbformat_minor": 2
}
